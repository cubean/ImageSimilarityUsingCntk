{
 "cells": [
  {
   "cell_type": "code",
   "execution_count": 1,
   "metadata": {},
   "outputs": [
    {
     "name": "stdout",
     "output_type": "stream",
     "text": [
      "2.7\n"
     ]
    }
   ],
   "source": [
    "import cntk; print(cntk.__version__)"
   ]
  },
  {
   "cell_type": "code",
   "execution_count": 3,
   "metadata": {},
   "outputs": [
    {
     "data": {
      "text/plain": [
       "'/data/home/cubean/notebooks/git/ImageSimilarityUsingCntk'"
      ]
     },
     "execution_count": 3,
     "metadata": {},
     "output_type": "execute_result"
    }
   ],
   "source": [
    "pwd"
   ]
  },
  {
   "cell_type": "code",
   "execution_count": 2,
   "metadata": {},
   "outputs": [
    {
     "name": "stdout",
     "output_type": "stream",
     "text": [
      "/data/home/cubean/notebooks/git/ImageSimilarityUsingCntk\n"
     ]
    }
   ],
   "source": [
    "cd /data/home/cubean/notebooks/git/ImageSimilarityUsingCntk"
   ]
  },
  {
   "cell_type": "code",
   "execution_count": null,
   "metadata": {},
   "outputs": [],
   "source": []
  },
  {
   "cell_type": "code",
   "execution_count": null,
   "metadata": {},
   "outputs": [],
   "source": []
  },
  {
   "cell_type": "code",
   "execution_count": 4,
   "metadata": {},
   "outputs": [
    {
     "name": "stdout",
     "output_type": "stream",
     "text": [
      "PARAMETERS: datasetName = costumebox/training/womens-costumes\n",
      "Split images into train or test...\n",
      "Training:    75 images in directory womens-elegant-costumes\n",
      "Testing:     25 images in directory womens-elegant-costumes\n",
      "Training:    75 images in directory sexy-costumes\n",
      "Testing:     25 images in directory sexy-costumes\n",
      "Training:    12 images in directory party-busters\n",
      "Testing:      4 images in directory party-busters\n",
      "Training:    75 images in directory womens-plus-size-costumes\n",
      "Testing:     25 images in directory womens-plus-size-costumes\n",
      "Generate training data ...\n",
      "Generated image pairs for 237 query images, each with 1 positive image pair and 100 negative image pairs.\n",
      "Generate test data ...\n",
      "Generated image pairs for 64 query images, each with 1 positive image pair and 100 negative image pairs.\n",
      "Verifying if training and test set are disjoint:\n",
      "   Check passed: Training and test set share no images.\n",
      "DONE.\n"
     ]
    }
   ],
   "source": [
    "# -*- coding: utf-8 -*-\n",
    "from helpers import *\n",
    "locals().update(importlib.import_module(\"PARAMETERS\").__dict__)\n",
    "\n",
    "\n",
    "####################################\n",
    "# Main\n",
    "####################################\n",
    "random.seed(0)\n",
    "makeDirectory(procDir)\n",
    "imgFilenamesTest  = dict()\n",
    "imgFilenamesTrain = dict()\n",
    "\n",
    "print(\"Split images into train or test...\")\n",
    "subdirs = getDirectoriesInDirectory(imgDir)\n",
    "for subdir in subdirs:\n",
    "    filenames = getFilesInDirectory(imgDir + subdir, \".jpg\")\n",
    "\n",
    "    # Randomly assign images into train or test\n",
    "    if imagesSplitBy == 'filename':\n",
    "        filenames  = randomizeList(filenames)\n",
    "        splitIndex = int(ratioTrainTest * len(filenames))\n",
    "        imgFilenamesTrain[subdir] = filenames[:splitIndex]\n",
    "        imgFilenamesTest[subdir]  = filenames[splitIndex:]\n",
    "\n",
    "    # Randomly assign whole subdirectories to train or test\n",
    "    elif imagesSplitBy == 'subdir':\n",
    "        if random.random() < ratioTrainTest:\n",
    "            imgFilenamesTrain[subdir] = filenames\n",
    "        else:\n",
    "            imgFilenamesTest[subdir]  = filenames\n",
    "    else:\n",
    "        raise Exception(\"Variable 'imagesSplitBy' has to be either 'filename' or 'subdir'\")\n",
    "\n",
    "    # Debug print\n",
    "    if subdir in imgFilenamesTrain:\n",
    "        print(\"Training: {:5} images in directory {}\".format(len(imgFilenamesTrain[subdir]), subdir))\n",
    "    if subdir in imgFilenamesTest:\n",
    "        print(\"Testing:  {:5} images in directory {}\".format(len(imgFilenamesTest[subdir]), subdir))\n",
    "\n",
    "# Save assignments of images to train or test\n",
    "saveToPickle(imgFilenamesTrainPath, imgFilenamesTrain)\n",
    "saveToPickle(imgFilenamesTestPath,  imgFilenamesTest)\n",
    "\n",
    "# Mappings label <-> id\n",
    "lutId2Label = dict()\n",
    "lutLabel2Id = dict()\n",
    "for index, key in enumerate(imgFilenamesTrain.keys()):\n",
    "    lutLabel2Id[key] = index\n",
    "    lutId2Label[index] = key\n",
    "saveToPickle(lutLabel2IdPath, lutLabel2Id)\n",
    "saveToPickle(lutId2LabelPath, lutId2Label)\n",
    "\n",
    "# Compute positive and negative image pairs\n",
    "print(\"Generate training data ...\")\n",
    "imgInfosTrain = getImagePairs(imgFilenamesTrain, train_maxQueryImgsPerSubdir, train_maxNegImgsPerQueryImg)\n",
    "saveToPickle(imgInfosTrainPath, imgInfosTrain)\n",
    "print(\"Generate test data ...\")\n",
    "imgInfosTest = getImagePairs(imgFilenamesTest, test_maxQueryImgsPerSubdir, test_maxNegImgsPerQueryImg)\n",
    "saveToPickle(imgInfosTestPath, imgInfosTest)\n",
    "\n",
    "# Sanity check - make sure the test and training set have no images in common\n",
    "if True:\n",
    "    print(\"Verifying if training and test set are disjoint:\")\n",
    "    pathsTest  = getImgPaths(loadFromPickle(imgInfosTestPath))\n",
    "    pathsTrain = getImgPaths(loadFromPickle(imgInfosTrainPath))\n",
    "\n",
    "    # Make sure the training set and test set have zero overlap\n",
    "    overlap = len(pathsTrain.intersection(pathsTest))\n",
    "    if overlap == 0:\n",
    "        print(\"   Check passed: Training and test set share no images.\")\n",
    "    else:\n",
    "        raise Exception(\"Training and test set share %d images.\" % overlap)\n",
    "print(\"DONE.\")\n"
   ]
  },
  {
   "cell_type": "code",
   "execution_count": 5,
   "metadata": {},
   "outputs": [
    {
     "name": "stdout",
     "output_type": "stream",
     "text": [
      "WARNING: using CPU for CNTK training/scoring.\n"
     ]
    },
    {
     "ename": "ValueError",
     "evalue": "Cannot load the model /data/home/cubean/notebooks/git/ImageSimilarityUsingCntk/cntk/resources/cntk/ResNet_18.model that is neither a file nor a byte buffer.",
     "output_type": "error",
     "traceback": [
      "\u001b[0;31m---------------------------------------------------------------------------\u001b[0m",
      "\u001b[0;31mValueError\u001b[0m                                Traceback (most recent call last)",
      "\u001b[0;32m/data/home/cubean/notebooks/git/ImageSimilarityUsingCntk/PARAMETERS.py\u001b[0m in \u001b[0;36m<module>\u001b[0;34m()\u001b[0m\n\u001b[1;32m     28\u001b[0m model = train_model(cntkPretrainedModelPath, cntkTrainMapPath, cntkTestMapPath, rf_inputResoluton,\n\u001b[1;32m     29\u001b[0m                     \u001b[0mrf_maxEpochs\u001b[0m\u001b[0;34m,\u001b[0m \u001b[0mrf_mbSize\u001b[0m\u001b[0;34m,\u001b[0m \u001b[0mrf_maxTrainImages\u001b[0m\u001b[0;34m,\u001b[0m \u001b[0mrf_lrPerMb\u001b[0m\u001b[0;34m,\u001b[0m \u001b[0mrf_momentumPerMb\u001b[0m\u001b[0;34m,\u001b[0m \u001b[0mrf_l2RegWeight\u001b[0m\u001b[0;34m,\u001b[0m\u001b[0;34m\u001b[0m\u001b[0m\n\u001b[0;32m---> 30\u001b[0;31m                     rf_dropoutRate, rf_boFreezeWeights)\n\u001b[0m\u001b[1;32m     31\u001b[0m \u001b[0mmodel\u001b[0m\u001b[0;34m.\u001b[0m\u001b[0msave\u001b[0m\u001b[0;34m(\u001b[0m\u001b[0mcntkRefinedModelPath\u001b[0m\u001b[0;34m)\u001b[0m\u001b[0;34m\u001b[0m\u001b[0m\n\u001b[1;32m     32\u001b[0m \u001b[0mprint\u001b[0m\u001b[0;34m(\u001b[0m\u001b[0;34m\"Stored trained model at %s\"\u001b[0m \u001b[0;34m%\u001b[0m \u001b[0mcntkRefinedModelPath\u001b[0m\u001b[0;34m)\u001b[0m\u001b[0;34m\u001b[0m\u001b[0m\n",
      "\u001b[0;32m/data/home/cubean/notebooks/git/ImageSimilarityUsingCntk/helpers_cntk.py\u001b[0m in \u001b[0;36mtrain_model\u001b[0;34m(base_model_file, train_map_file, test_map_file, input_resolution, num_epochs, mb_size, max_train_images, lr_per_mb, momentum_per_mb, l2_reg_weight, dropout_rate, freeze_weights, num_channels)\u001b[0m\n\u001b[1;32m    111\u001b[0m \u001b[0;34m\u001b[0m\u001b[0m\n\u001b[1;32m    112\u001b[0m     \u001b[0;31m# Instantiate the transfer learning model and loss function\u001b[0m\u001b[0;34m\u001b[0m\u001b[0;34m\u001b[0m\u001b[0m\n\u001b[0;32m--> 113\u001b[0;31m     \u001b[0mcntkModel\u001b[0m \u001b[0;34m=\u001b[0m \u001b[0mcreate_model\u001b[0m\u001b[0;34m(\u001b[0m\u001b[0mbase_model_file\u001b[0m\u001b[0;34m,\u001b[0m \u001b[0mimage_input\u001b[0m\u001b[0;34m,\u001b[0m \u001b[0mnum_classes\u001b[0m\u001b[0;34m,\u001b[0m \u001b[0mdropout_rate\u001b[0m\u001b[0;34m,\u001b[0m \u001b[0mfreeze_weights\u001b[0m\u001b[0;34m)\u001b[0m\u001b[0;34m\u001b[0m\u001b[0m\n\u001b[0m\u001b[1;32m    114\u001b[0m     \u001b[0mce\u001b[0m \u001b[0;34m=\u001b[0m \u001b[0mcross_entropy_with_softmax\u001b[0m\u001b[0;34m(\u001b[0m\u001b[0mcntkModel\u001b[0m\u001b[0;34m,\u001b[0m \u001b[0mlabel_input\u001b[0m\u001b[0;34m)\u001b[0m\u001b[0;34m\u001b[0m\u001b[0m\n\u001b[1;32m    115\u001b[0m     \u001b[0mpe\u001b[0m \u001b[0;34m=\u001b[0m \u001b[0mclassification_error\u001b[0m\u001b[0;34m(\u001b[0m\u001b[0mcntkModel\u001b[0m\u001b[0;34m,\u001b[0m \u001b[0mlabel_input\u001b[0m\u001b[0;34m)\u001b[0m\u001b[0;34m\u001b[0m\u001b[0m\n",
      "\u001b[0;32m/data/home/cubean/notebooks/git/ImageSimilarityUsingCntk/helpers_cntk.py\u001b[0m in \u001b[0;36mcreate_model\u001b[0;34m(base_model_file, input_features, num_classes, dropout_rate, freeze_weights)\u001b[0m\n\u001b[1;32m     58\u001b[0m \u001b[0;32mdef\u001b[0m \u001b[0mcreate_model\u001b[0m\u001b[0;34m(\u001b[0m\u001b[0mbase_model_file\u001b[0m\u001b[0;34m,\u001b[0m \u001b[0minput_features\u001b[0m\u001b[0;34m,\u001b[0m \u001b[0mnum_classes\u001b[0m\u001b[0;34m,\u001b[0m  \u001b[0mdropout_rate\u001b[0m \u001b[0;34m=\u001b[0m \u001b[0;36m0.5\u001b[0m\u001b[0;34m,\u001b[0m \u001b[0mfreeze_weights\u001b[0m \u001b[0;34m=\u001b[0m \u001b[0;32mFalse\u001b[0m\u001b[0;34m)\u001b[0m\u001b[0;34m:\u001b[0m\u001b[0;34m\u001b[0m\u001b[0m\n\u001b[1;32m     59\u001b[0m     \u001b[0;31m# Load the pretrained classification net and find nodes\u001b[0m\u001b[0;34m\u001b[0m\u001b[0;34m\u001b[0m\u001b[0m\n\u001b[0;32m---> 60\u001b[0;31m     \u001b[0mbase_model\u001b[0m   \u001b[0;34m=\u001b[0m \u001b[0mload_model\u001b[0m\u001b[0;34m(\u001b[0m\u001b[0mbase_model_file\u001b[0m\u001b[0;34m)\u001b[0m\u001b[0;34m\u001b[0m\u001b[0m\n\u001b[0m\u001b[1;32m     61\u001b[0m     \u001b[0mfeature_node\u001b[0m \u001b[0;34m=\u001b[0m \u001b[0mfind_by_name\u001b[0m\u001b[0;34m(\u001b[0m\u001b[0mbase_model\u001b[0m\u001b[0;34m,\u001b[0m \u001b[0;34m'features'\u001b[0m\u001b[0;34m)\u001b[0m\u001b[0;34m\u001b[0m\u001b[0m\n\u001b[1;32m     62\u001b[0m     \u001b[0mbeforePooling_node\u001b[0m \u001b[0;34m=\u001b[0m \u001b[0mfind_by_name\u001b[0m\u001b[0;34m(\u001b[0m\u001b[0mbase_model\u001b[0m\u001b[0;34m,\u001b[0m \u001b[0;34m\"z.x.x.r\"\u001b[0m\u001b[0;34m)\u001b[0m\u001b[0;34m\u001b[0m\u001b[0m\n",
      "\u001b[0;32m/anaconda/envs/py35/lib/python3.5/site-packages/cntk/internal/swig_helper.py\u001b[0m in \u001b[0;36mwrapper\u001b[0;34m(*args, **kwds)\u001b[0m\n\u001b[1;32m     67\u001b[0m     \u001b[0;34m@\u001b[0m\u001b[0mwraps\u001b[0m\u001b[0;34m(\u001b[0m\u001b[0mf\u001b[0m\u001b[0;34m)\u001b[0m\u001b[0;34m\u001b[0m\u001b[0m\n\u001b[1;32m     68\u001b[0m     \u001b[0;32mdef\u001b[0m \u001b[0mwrapper\u001b[0m\u001b[0;34m(\u001b[0m\u001b[0;34m*\u001b[0m\u001b[0margs\u001b[0m\u001b[0;34m,\u001b[0m \u001b[0;34m**\u001b[0m\u001b[0mkwds\u001b[0m\u001b[0;34m)\u001b[0m\u001b[0;34m:\u001b[0m\u001b[0;34m\u001b[0m\u001b[0m\n\u001b[0;32m---> 69\u001b[0;31m         \u001b[0mresult\u001b[0m \u001b[0;34m=\u001b[0m \u001b[0mf\u001b[0m\u001b[0;34m(\u001b[0m\u001b[0;34m*\u001b[0m\u001b[0margs\u001b[0m\u001b[0;34m,\u001b[0m \u001b[0;34m**\u001b[0m\u001b[0mkwds\u001b[0m\u001b[0;34m)\u001b[0m\u001b[0;34m\u001b[0m\u001b[0m\n\u001b[0m\u001b[1;32m     70\u001b[0m         \u001b[0mmap_if_possible\u001b[0m\u001b[0;34m(\u001b[0m\u001b[0mresult\u001b[0m\u001b[0;34m)\u001b[0m\u001b[0;34m\u001b[0m\u001b[0m\n\u001b[1;32m     71\u001b[0m         \u001b[0;32mreturn\u001b[0m \u001b[0mresult\u001b[0m\u001b[0;34m\u001b[0m\u001b[0m\n",
      "\u001b[0;32m/anaconda/envs/py35/lib/python3.5/site-packages/cntk/ops/functions.py\u001b[0m in \u001b[0;36mload_model\u001b[0;34m(model, device, format)\u001b[0m\n\u001b[1;32m   1719\u001b[0m     \u001b[0mAlias\u001b[0m \u001b[0;32mfor\u001b[0m \u001b[0;34m:\u001b[0m\u001b[0mfunc\u001b[0m\u001b[0;34m:\u001b[0m\u001b[0;31m`\u001b[0m\u001b[0;34m~\u001b[0m\u001b[0mcntk\u001b[0m\u001b[0;34m.\u001b[0m\u001b[0mops\u001b[0m\u001b[0;34m.\u001b[0m\u001b[0mfunctions\u001b[0m\u001b[0;34m.\u001b[0m\u001b[0mFunction\u001b[0m\u001b[0;34m.\u001b[0m\u001b[0mload\u001b[0m\u001b[0;31m`\u001b[0m\u001b[0;34m.\u001b[0m\u001b[0;34m\u001b[0m\u001b[0m\n\u001b[1;32m   1720\u001b[0m     '''\n\u001b[0;32m-> 1721\u001b[0;31m     \u001b[0;32mreturn\u001b[0m \u001b[0mFunction\u001b[0m\u001b[0;34m.\u001b[0m\u001b[0mload\u001b[0m\u001b[0;34m(\u001b[0m\u001b[0mmodel\u001b[0m\u001b[0;34m,\u001b[0m \u001b[0mdevice\u001b[0m\u001b[0;34m,\u001b[0m \u001b[0mformat\u001b[0m\u001b[0;34m)\u001b[0m\u001b[0;34m\u001b[0m\u001b[0m\n\u001b[0m\u001b[1;32m   1722\u001b[0m \u001b[0;34m\u001b[0m\u001b[0m\n\u001b[1;32m   1723\u001b[0m \u001b[0;32mclass\u001b[0m \u001b[0mUserFunction\u001b[0m\u001b[0;34m(\u001b[0m\u001b[0mFunction\u001b[0m\u001b[0;34m)\u001b[0m\u001b[0;34m:\u001b[0m\u001b[0;34m\u001b[0m\u001b[0m\n",
      "\u001b[0;32m/anaconda/envs/py35/lib/python3.5/site-packages/cntk/internal/swig_helper.py\u001b[0m in \u001b[0;36mwrapper\u001b[0;34m(*args, **kwds)\u001b[0m\n\u001b[1;32m     67\u001b[0m     \u001b[0;34m@\u001b[0m\u001b[0mwraps\u001b[0m\u001b[0;34m(\u001b[0m\u001b[0mf\u001b[0m\u001b[0;34m)\u001b[0m\u001b[0;34m\u001b[0m\u001b[0m\n\u001b[1;32m     68\u001b[0m     \u001b[0;32mdef\u001b[0m \u001b[0mwrapper\u001b[0m\u001b[0;34m(\u001b[0m\u001b[0;34m*\u001b[0m\u001b[0margs\u001b[0m\u001b[0;34m,\u001b[0m \u001b[0;34m**\u001b[0m\u001b[0mkwds\u001b[0m\u001b[0;34m)\u001b[0m\u001b[0;34m:\u001b[0m\u001b[0;34m\u001b[0m\u001b[0m\n\u001b[0;32m---> 69\u001b[0;31m         \u001b[0mresult\u001b[0m \u001b[0;34m=\u001b[0m \u001b[0mf\u001b[0m\u001b[0;34m(\u001b[0m\u001b[0;34m*\u001b[0m\u001b[0margs\u001b[0m\u001b[0;34m,\u001b[0m \u001b[0;34m**\u001b[0m\u001b[0mkwds\u001b[0m\u001b[0;34m)\u001b[0m\u001b[0;34m\u001b[0m\u001b[0m\n\u001b[0m\u001b[1;32m     70\u001b[0m         \u001b[0mmap_if_possible\u001b[0m\u001b[0;34m(\u001b[0m\u001b[0mresult\u001b[0m\u001b[0;34m)\u001b[0m\u001b[0;34m\u001b[0m\u001b[0m\n\u001b[1;32m     71\u001b[0m         \u001b[0;32mreturn\u001b[0m \u001b[0mresult\u001b[0m\u001b[0;34m\u001b[0m\u001b[0m\n",
      "\u001b[0;32m/anaconda/envs/py35/lib/python3.5/site-packages/cntk/ops/functions.py\u001b[0m in \u001b[0;36mload\u001b[0;34m(model, device, format)\u001b[0m\n\u001b[1;32m   1635\u001b[0m             \u001b[0;32mreturn\u001b[0m \u001b[0mcntk_py\u001b[0m\u001b[0;34m.\u001b[0m\u001b[0mFunction\u001b[0m\u001b[0;34m.\u001b[0m\u001b[0mload\u001b[0m\u001b[0;34m(\u001b[0m\u001b[0mstr\u001b[0m\u001b[0;34m(\u001b[0m\u001b[0mmodel\u001b[0m\u001b[0;34m)\u001b[0m\u001b[0;34m,\u001b[0m \u001b[0mdevice\u001b[0m\u001b[0;34m,\u001b[0m \u001b[0mformat\u001b[0m\u001b[0;34m.\u001b[0m\u001b[0mvalue\u001b[0m\u001b[0;34m)\u001b[0m\u001b[0;34m\u001b[0m\u001b[0m\n\u001b[1;32m   1636\u001b[0m \u001b[0;34m\u001b[0m\u001b[0m\n\u001b[0;32m-> 1637\u001b[0;31m         \u001b[0;32mraise\u001b[0m \u001b[0mValueError\u001b[0m\u001b[0;34m(\u001b[0m\u001b[0;34m'Cannot load the model {} that is neither a file nor a byte buffer.'\u001b[0m\u001b[0;34m.\u001b[0m\u001b[0mformat\u001b[0m\u001b[0;34m(\u001b[0m\u001b[0mmodel\u001b[0m\u001b[0;34m)\u001b[0m\u001b[0;34m)\u001b[0m\u001b[0;34m\u001b[0m\u001b[0m\n\u001b[0m\u001b[1;32m   1638\u001b[0m \u001b[0;34m\u001b[0m\u001b[0m\n\u001b[1;32m   1639\u001b[0m     \u001b[0;34m@\u001b[0m\u001b[0mstaticmethod\u001b[0m\u001b[0;34m\u001b[0m\u001b[0m\n",
      "\u001b[0;31mValueError\u001b[0m: Cannot load the model /data/home/cubean/notebooks/git/ImageSimilarityUsingCntk/cntk/resources/cntk/ResNet_18.model that is neither a file nor a byte buffer."
     ]
    }
   ],
   "source": [
    "# -*- coding: utf-8 -*-\n",
    "from helpers import *\n",
    "from helpers_cntk import *\n",
    "locals().update(importlib.import_module(\"PARAMETERS\").__dict__)\n",
    "\n",
    "\n",
    "################################################\n",
    "# MAIN\n",
    "################################################\n",
    "makeDirectory(workingDir)\n",
    "\n",
    "# Load data\n",
    "lutLabel2Id = loadFromPickle(lutLabel2IdPath)\n",
    "imgFilenamesTest  = loadFromPickle(imgFilenamesTestPath)\n",
    "imgFilenamesTrain = loadFromPickle(imgFilenamesTrainPath)\n",
    "\n",
    "# Generate cntk test and train data, i.e. (image, label) pairs and write\n",
    "# them to disk since in-memory passing is currently not supported by cntk\n",
    "dataTest  = getImgLabelMap(imgFilenamesTest,  imgDir, lutLabel2Id)\n",
    "dataTrain = getImgLabelMap(imgFilenamesTrain, imgDir, lutLabel2Id)\n",
    "if rf_boBalanceTrainingSet:\n",
    "    dataTrain = balanceDatasetUsingDuplicates(dataTrain)\n",
    "writeTable(cntkTrainMapPath, dataTrain)\n",
    "writeTable(cntkTestMapPath, dataTest)\n",
    "\n",
    "# Train model\n",
    "printDeviceType()\n",
    "model = train_model(cntkPretrainedModelPath, cntkTrainMapPath, cntkTestMapPath, rf_inputResoluton,\n",
    "                    rf_maxEpochs, rf_mbSize, rf_maxTrainImages, rf_lrPerMb, rf_momentumPerMb, rf_l2RegWeight,\n",
    "                    rf_dropoutRate, rf_boFreezeWeights)\n",
    "model.save(cntkRefinedModelPath)\n",
    "print(\"Stored trained model at %s\" % cntkRefinedModelPath)\n",
    "\n",
    "print(\"DONE. Showing DNN accuracy vs training epoch plot.\")\n",
    "plt.show() # Accuracy vs training epochs plt"
   ]
  },
  {
   "cell_type": "code",
   "execution_count": null,
   "metadata": {},
   "outputs": [],
   "source": []
  }
 ],
 "metadata": {
  "kernelspec": {
   "display_name": "Python 3.5",
   "language": "python",
   "name": "python3"
  },
  "language_info": {
   "codemirror_mode": {
    "name": "ipython",
    "version": 3
   },
   "file_extension": ".py",
   "mimetype": "text/x-python",
   "name": "python",
   "nbconvert_exporter": "python",
   "pygments_lexer": "ipython3",
   "version": "3.5.5"
  }
 },
 "nbformat": 4,
 "nbformat_minor": 2
}
