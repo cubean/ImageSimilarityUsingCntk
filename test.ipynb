{
 "cells": [
  {
   "cell_type": "code",
   "execution_count": 3,
   "metadata": {},
   "outputs": [
    {
     "name": "stdout",
     "output_type": "stream",
     "text": [
      "5.001868486404419 seconds\n"
     ]
    }
   ],
   "source": [
    "import time\n",
    "time1 = time.time()\n",
    "time.sleep(5)\n",
    "time2 = time.time()\n",
    "print(\"%s seconds\"%(time2-time1))"
   ]
  },
  {
   "cell_type": "code",
   "execution_count": 11,
   "metadata": {},
   "outputs": [
    {
     "name": "stdout",
     "output_type": "stream",
     "text": [
      "This step took time: 0:00:02.002201\n"
     ]
    }
   ],
   "source": [
    "import datetime\n",
    "current_time1 = datetime.datetime.now()\n",
    "time.sleep(2)\n",
    "current_time2 = datetime.datetime.now()\n",
    "\n",
    "print (\"This step took time: %s\" % (current_time2 - current_time1))"
   ]
  }
 ],
 "metadata": {
  "kernelspec": {
   "display_name": "Python 3.5",
   "language": "python",
   "name": "python3"
  },
  "language_info": {
   "codemirror_mode": {
    "name": "ipython",
    "version": 3
   },
   "file_extension": ".py",
   "mimetype": "text/x-python",
   "name": "python",
   "nbconvert_exporter": "python",
   "pygments_lexer": "ipython3",
   "version": "3.5.5"
  }
 },
 "nbformat": 4,
 "nbformat_minor": 2
}
